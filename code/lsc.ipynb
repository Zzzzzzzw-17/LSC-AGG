{
 "cells": [
  {
   "cell_type": "code",
   "execution_count": 9,
   "metadata": {},
   "outputs": [],
   "source": [
    "import os\n",
    "import json\n",
    "import pandas as pd\n",
    "from collections import defaultdict\n",
    "from collections import Counter"
   ]
  },
  {
   "cell_type": "code",
   "execution_count": 2,
   "metadata": {},
   "outputs": [
    {
     "name": "stdout",
     "output_type": "stream",
     "text": [
      "Collecting pipreqs\n",
      "  Downloading pipreqs-0.4.11-py2.py3-none-any.whl (32 kB)\n",
      "Requirement already satisfied: docopt in d:\\python36\\lib\\site-packages (from pipreqs) (0.6.2)\n",
      "Collecting yarg\n",
      "  Using cached yarg-0.1.9-py2.py3-none-any.whl (19 kB)\n",
      "Requirement already satisfied: requests in d:\\python36\\lib\\site-packages (from yarg->pipreqs) (2.25.1)\n",
      "Requirement already satisfied: certifi>=2017.4.17 in d:\\python36\\lib\\site-packages (from requests->yarg->pipreqs) (2021.5.30)\n",
      "Requirement already satisfied: urllib3<1.27,>=1.21.1 in d:\\python36\\lib\\site-packages (from requests->yarg->pipreqs) (1.26.5)\n",
      "Requirement already satisfied: idna<3,>=2.5 in d:\\python36\\lib\\site-packages (from requests->yarg->pipreqs) (2.8)\n",
      "Requirement already satisfied: chardet<5,>=3.0.2 in d:\\python36\\lib\\site-packages (from requests->yarg->pipreqs) (4.0.0)\n",
      "Installing collected packages: yarg, pipreqs\n",
      "Successfully installed pipreqs-0.4.11 yarg-0.1.9\n"
     ]
    },
    {
     "name": "stderr",
     "output_type": "stream",
     "text": [
      "WARNING: Ignoring invalid distribution -ip (d:\\python36\\lib\\site-packages)\n",
      "WARNING: Ignoring invalid distribution -ip (d:\\python36\\lib\\site-packages)\n",
      "WARNING: Ignoring invalid distribution -ip (d:\\python36\\lib\\site-packages)\n",
      "WARNING: Ignoring invalid distribution -ip (d:\\python36\\lib\\site-packages)\n",
      "WARNING: Ignoring invalid distribution -ip (d:\\python36\\lib\\site-packages)\n",
      "WARNING: Ignoring invalid distribution -ip (d:\\python36\\lib\\site-packages)\n"
     ]
    }
   ],
   "source": [
    "! pip install pipreqs"
   ]
  },
  {
   "cell_type": "code",
   "execution_count": 5,
   "metadata": {},
   "outputs": [
    {
     "name": "stderr",
     "output_type": "stream",
     "text": [
      "INFO: Successfully saved requirements file in .\\requirements.txt\n"
     ]
    }
   ],
   "source": [
    "! python -m  pipreqs.pipreqs --encoding utf-8  ."
   ]
  },
  {
   "cell_type": "markdown",
   "metadata": {},
   "source": [
    "# ROC  curve"
   ]
  },
  {
   "cell_type": "code",
   "execution_count": 27,
   "metadata": {},
   "outputs": [
    {
     "data": {
      "image/png": "[encoded data removed]",
      "text/plain": [
       "<Figure size 432x288 with 1 Axes>"
      ]
     },
     "metadata": {
      "needs_background": "light"
     },
     "output_type": "display_data"
    }
   ],
   "source": [
    "# ROC score/curve for different combo\n",
    "import numpy as np\n",
    "import pandas as pd\n",
    "from sklearn import metrics\n",
    "import matplotlib.pyplot as plt\n",
    "\n",
    "def read(path,filename,metric):\n",
    "    result=[]\n",
    "    with open(path,'r') as f:\n",
    "        dict_ = {}\n",
    "        for line in f:\n",
    "            token, score = line.split('\\t')\n",
    "            field = \"_\".join([filename,metric])\n",
    "            dict_[token]=float(score[:-1])\n",
    "        dict_ = {k: v for k, v in sorted(dict_.items(), key=lambda item: item[1], reverse=True)}\n",
    "        result = [{'task':filename, 'metric':metric, 'token':k, 'score':v, 'rank':i} for i, (k,v) in enumerate(dict_.items())]\n",
    "        \n",
    "    return result\n",
    "\n",
    "def ave(results):\n",
    "    df = pd.DataFrame(results)\n",
    "    df['score'] = df['score'].astype(float)\n",
    "\n",
    "    res = pd.DataFrame(df.groupby([\"token\"]).mean()).to_dict()\n",
    "\n",
    "    dict_ = {k: v for k, v in sorted(res['score'].items(), key=lambda item: item[1], reverse=True)}\n",
    "    return dict_\n",
    "\n",
    "\n",
    "# best model for prt \n",
    "# read in gold scores\n",
    "gold_scores = read(\"../test_data_truth/task1/english_nopos.txt\",\"gold\",\"gold\")\n",
    "prt_nli =  read(\"../results/PRT/snli\",'snli','prt')\n",
    "prt_local_sst =  read(\"../results/PRT/sst2_local_finetune\",'local_sst2','prt')\n",
    "prt_local_pos =  read(\"../results/PRT/pos_local_finetune\",'local_pos','prt')\n",
    "prt_sst2_pfeiffer = read(\"../results/PRT/sst2_pfeiffer\", \"sst2_pfeiffer\", \"prt\")\n",
    "prt_ner = read(\"../results/PRT/ner\", \"ner\", \"prt\")\n",
    "prt_read_compre = read(\"../results/PRT/read_compre\", \"read_compre\", \"prt\")\n",
    "prt_histbert_10 = read(\"../results/PRT/histbert-10\", \"histbert10\", \"prt\")\n",
    "\n",
    "prt_bb =  read(\"../results/PRT/bert_base\",'bert_base','prt')\n",
    "\n",
    "prt_best1 = ave(prt_nli+prt_local_sst+prt_local_pos)\n",
    "prt_best2 =  ave(prt_nli+prt_local_sst+prt_local_pos+prt_sst2_pfeiffer+prt_ner)\n",
    "prt_best3 =  ave(prt_bb+prt_local_sst+prt_nli+prt_sst2_pfeiffer+prt_ner)\n",
    "prt_best4 =  ave(prt_local_sst+prt_nli+prt_sst2_pfeiffer+prt_local_pos)\n",
    "prt_best5 =  ave(prt_local_sst+prt_nli+prt_sst2_pfeiffer+prt_read_compre+prt_histbert_10+prt_local_pos)\n",
    "\n",
    "\n",
    "prt_base = {item[\"token\"]:item[\"score\"] for item in prt_bb}\n",
    "\n",
    "y_true, y_pred_best1,y_pred_best2,y_pred_best3,y_pred_best4, y_pred_best5, y_pred_base =[],[],[],[],[],[],[]\n",
    "for item in gold_scores:\n",
    "    y_true.append(item['score'])\n",
    "    y_pred_best1.append(prt_best1[item['token']])\n",
    "    y_pred_best2.append(prt_best2[item['token']])\n",
    "    y_pred_best3.append(prt_best3[item['token']])\n",
    "    y_pred_best4.append(prt_best4[item['token']])\n",
    "    y_pred_best5.append(prt_best5[item['token']])\n",
    "    y_pred_base.append(prt_base[item['token']])\n",
    "\n",
    "\n",
    "fpr_best1, tpr_best1, thresholds_best1 = metrics.roc_curve(y_true, y_pred_best1)\n",
    "fpr_best2, tpr_best2, thresholds_best2 = metrics.roc_curve(y_true, y_pred_best2)\n",
    "fpr_best3, tpr_best3, thresholds_best3 = metrics.roc_curve(y_true, y_pred_best3)\n",
    "fpr_best4, tpr_best4, thresholds_best4 = metrics.roc_curve(y_true, y_pred_best4)\n",
    "fpr_best5, tpr_best5, thresholds_best5 = metrics.roc_curve(y_true, y_pred_best5)\n",
    "auc_best1= metrics.roc_auc_score(y_true, y_pred_best1)\n",
    "auc_best2= metrics.roc_auc_score(y_true, y_pred_best2)\n",
    "auc_best3= metrics.roc_auc_score(y_true, y_pred_best3)\n",
    "auc_best4= metrics.roc_auc_score(y_true, y_pred_best4)\n",
    "auc_best5= metrics.roc_auc_score(y_true, y_pred_best5)\n",
    "\n",
    "\n",
    "fpr_base, tpr_base, thresholds_base = metrics.roc_curve(y_true, y_pred_base)\n",
    "auc_base = metrics.roc_auc_score(y_true, y_pred_base)\n",
    "\n",
    "#create ROC curve\n",
    "plt.plot(fpr_best1,tpr_best1,label=\"AUC-best1 \"+str(round(auc_best1,3)))\n",
    "plt.plot(fpr_best2,tpr_best2,label=\"AUC-best2 \"+str(round(auc_best2,3)))\n",
    "plt.plot(fpr_best3,tpr_best3,label=\"AUC-best3 \"+str(round(auc_best3,3)))\n",
    "#plt.plot(fpr_best4,tpr_best4,label=\"AUC-best4 \"+str(round(auc_best4,3)))\n",
    "#plt.plot(fpr_best5,tpr_best5,label=\"AUC-best5 \"+str(round(auc_best5,3)))\n",
    "plt.plot(fpr_base,tpr_base,label=\"AUC-base \"+str(round(auc_base,3)),linestyle='dashed')\n",
    "plt.ylabel('True Positive Rate')\n",
    "plt.xlabel('False Positive Rate')\n",
    "plt.legend(loc=4)\n",
    "plt.show()"
   ]
  },
  {
   "cell_type": "code",
   "execution_count": 28,
   "metadata": {},
   "outputs": [
    {
     "data": {
      "image/png": "[encoded data removed]",
      "text/plain": [
       "<Figure size 432x288 with 1 Axes>"
      ]
     },
     "metadata": {
      "needs_background": "light"
     },
     "output_type": "display_data"
    }
   ],
   "source": [
    "# for apd best \n",
    "\n",
    "apd_bb =  read(\"../results/APD/bert_base\",'bb','apd')\n",
    "apd_sst2 = read(\"../results/APD/sst2\",'sst2','apd')\n",
    "apd_nli =  read(\"../results/APD/snli\",'nli','apd')\n",
    "apd_textualsim =  read(\"../results/APD/textual_sim\",'texutalsim','apd')\n",
    "apd_errordetect =  read(\"../results/APD/error_detect\",'errordetect','apd')\n",
    "apd_local_pos =  read(\"../results/APD/pos_local_finetune\",'local_pos','apd')\n",
    "apd_base = {item[\"token\"]:item[\"score\"] for item in apd_bb}\n",
    "\n",
    "prt_best1 = ave(apd_nli+apd_textualsim+apd_errordetect+apd_local_pos+apd_bb)\n",
    "prt_best2 =  ave(apd_bb+apd_sst2+apd_errordetect+apd_local_pos)\n",
    "prt_best3 =  ave(apd_sst2+apd_textualsim+apd_errordetect)\n",
    "prt_best4 =  ave(apd_bb+apd_sst2+apd_textualsim+apd_errordetect)\n",
    "prt_best5 =  ave(apd_bb+apd_textualsim+apd_errordetect)\n",
    "prt_test = ave(apd_local_pos+apd_nli)\n",
    "\n",
    "prt_base = {item[\"token\"]:item[\"score\"] for item in apd_bb}\n",
    "\n",
    "y_true, y_pred_best1,y_pred_best2,y_pred_best3,y_pred_best4, y_pred_best5, y_pred_base =[],[],[],[],[],[],[]\n",
    "for item in gold_scores:\n",
    "    y_true.append(item['score'])\n",
    "    y_pred_best1.append(prt_best1[item['token']])\n",
    "    y_pred_best2.append(prt_best2[item['token']])\n",
    "    y_pred_best3.append(prt_best3[item['token']])\n",
    "    y_pred_best4.append(prt_best4[item['token']])\n",
    "    y_pred_best5.append(prt_best5[item['token']])\n",
    "    y_pred_base.append(prt_base[item['token']])\n",
    "\n",
    "\n",
    "fpr_best1, tpr_best1, thresholds_best1 = metrics.roc_curve(y_true, y_pred_best1)\n",
    "fpr_best2, tpr_best2, thresholds_best2 = metrics.roc_curve(y_true, y_pred_best2)\n",
    "fpr_best3, tpr_best3, thresholds_best3 = metrics.roc_curve(y_true, y_pred_best3)\n",
    "fpr_best4, tpr_best4, thresholds_best4 = metrics.roc_curve(y_true, y_pred_best4)\n",
    "fpr_best5, tpr_best5, thresholds_best5 = metrics.roc_curve(y_true, y_pred_best5)\n",
    "auc_best1= metrics.roc_auc_score(y_true, y_pred_best1)\n",
    "auc_best2= metrics.roc_auc_score(y_true, y_pred_best2)\n",
    "auc_best3= metrics.roc_auc_score(y_true, y_pred_best3)\n",
    "auc_best4= metrics.roc_auc_score(y_true, y_pred_best4)\n",
    "auc_best5= metrics.roc_auc_score(y_true, y_pred_best5)\n",
    "\n",
    "\n",
    "fpr_base, tpr_base, thresholds_base = metrics.roc_curve(y_true, y_pred_base)\n",
    "auc_base = metrics.roc_auc_score(y_true, y_pred_base)\n",
    "\n",
    "#create ROC curve\n",
    "plt.plot(fpr_best1,tpr_best1,label=\"AUC-best1 \"+str(round(auc_best1,3)))\n",
    "plt.plot(fpr_best2,tpr_best2,label=\"AUC-best2 \"+str(round(auc_best2,3)))\n",
    "plt.plot(fpr_best3,tpr_best3,label=\"AUC-best3 \"+str(round(auc_best3,3)))\n",
    "#plt.plot(fpr_best4,tpr_best4,label=\"AUC-best4 \"+str(round(auc_best4,3)))\n",
    "#plt.plot(fpr_best5,tpr_best5,label=\"AUC-best5 \"+str(round(auc_best5,3)))\n",
    "plt.plot(fpr_base,tpr_base,label=\"AUC-base \"+str(round(auc_base,3)),linestyle='dashed')\n",
    "plt.ylabel('True Positive Rate')\n",
    "plt.xlabel('False Positive Rate')\n",
    "plt.legend(loc=4)\n",
    "plt.show()"
   ]
  },
  {
   "cell_type": "markdown",
   "metadata": {},
   "source": [
    "# Looking into PRT/APD scores"
   ]
  },
  {
   "cell_type": "code",
   "execution_count": 16,
   "metadata": {},
   "outputs": [
    {
     "name": "stdout",
     "output_type": "stream",
     "text": [
      "error_detect\n",
      "histbert\n",
      "histbert-10\n",
      "histbert-5\n",
      "histbert-full\n",
      "ling_accept\n",
      "ner\n",
      "phrase_chunk\n",
      "pos\n",
      "pos_local_finetune\n",
      "read_compre\n",
      "sem_tag\n",
      "snli\n",
      "sst2\n",
      "sst2_hously\n",
      "sst2_local_finetune\n",
      "sst2_pfeiffer\n",
      "textual_sim\n",
      "error_detect\n",
      "histbert\n",
      "histbert-10\n",
      "histbert-5\n",
      "histbert-full\n",
      "ling_accept\n",
      "ner\n",
      "phrase_chunk\n",
      "pos\n",
      "pos_local_finetune\n",
      "read_compre\n",
      "sem_tag\n",
      "snli\n",
      "sst2\n",
      "sst2_hously\n",
      "sst2_local_finetune\n",
      "sst2_pfeiffer\n",
      "textual_sim\n",
      "561.6588660777488 1.0897499937478553e-122\n",
      "56.760268824488705 4.727855876560677e-13\n"
     ]
    }
   ],
   "source": [
    "# 1. create distribution\n",
    "import os\n",
    "import pandas as pd\n",
    "import numpy as np\n",
    "from scipy import stats\n",
    "def read(path, filename, metric):\n",
    "    with open(path,'r') as f:\n",
    "        dict_ = {}\n",
    "        for line in f:\n",
    "            token, score = line.split('\\t')\n",
    "            dict_[token]=float(score[:-1])\n",
    "        dict_ = {k: v for k, v in sorted(dict_.items(), key=lambda item: item[1], reverse=True)}\n",
    "        result = [{'task':filename, 'metric':metric, 'token':k, 'score':v, 'rank':i} for i, (k,v) in enumerate(dict_.items())]\n",
    "        \n",
    "    return result\n",
    "\n",
    "def aggregate():\n",
    "    results=[]\n",
    "    metrics = ['PRT','APD']\n",
    "    for metric in metrics:\n",
    "        for filename in os.listdir(f\"../results/{metric}\"):\n",
    "            if filename!='discovery_noun' and filename!='discovery_verb' and filename!='gold.txt' and filename!='bert_base': \n",
    "                print(filename)\n",
    "                path = f\"../results/{metric}/{filename}\"\n",
    "                results += read(path,filename,metric)\n",
    "    return results\n",
    "        \n",
    "all_results = aggregate()\n",
    "\n",
    "df = pd.DataFrame(all_results)\n",
    "df_prt = df[df['metric']=='PRT']\n",
    "df_apd = df[df['metric']=='APD']\n",
    "\n",
    "prt_scores = df_prt.score.tolist()\n",
    "apd_scores = df_apd.score.tolist()\n",
    "\n",
    "k1, p1 = stats.normaltest(prt_scores)\n",
    "k2, p2 = stats.normaltest(apd_scores)\n",
    "print(k1,p1)\n",
    "print(k2,p2)\n",
    "#  reject the null hypothesis that values are from normal distributions"
   ]
  },
  {
   "cell_type": "code",
   "execution_count": 5,
   "metadata": {},
   "outputs": [
    {
     "data": {
      "text/plain": [
       "<seaborn.axisgrid.FacetGrid at 0x289b06ec400>"
      ]
     },
     "execution_count": 5,
     "metadata": {},
     "output_type": "execute_result"
    },
    {
     "data": {
      "image/png": "[encoded data removed]",
      "text/plain": [
       "<Figure size 360x360 with 1 Axes>"
      ]
     },
     "metadata": {
      "needs_background": "light"
     },
     "output_type": "display_data"
    }
   ],
   "source": [
    "# plot distribution\n",
    "import seaborn as sns\n",
    "sns.displot(prt_scores,  kind=\"kde\")"
   ]
  },
  {
   "cell_type": "code",
   "execution_count": 6,
   "metadata": {},
   "outputs": [
    {
     "data": {
      "text/plain": [
       "<seaborn.axisgrid.FacetGrid at 0x289dba896d8>"
      ]
     },
     "execution_count": 6,
     "metadata": {},
     "output_type": "execute_result"
    },
    {
     "data": {
      "image/png": "[encoded data removed]",
      "text/plain": [
       "<Figure size 360x360 with 1 Axes>"
      ]
     },
     "metadata": {
      "needs_background": "light"
     },
     "output_type": "display_data"
    }
   ],
   "source": [
    "sns.displot(apd_scores,  kind=\"kde\")"
   ]
  },
  {
   "cell_type": "markdown",
   "metadata": {},
   "source": [
    "# generate p-value for individual rank task"
   ]
  },
  {
   "cell_type": "code",
   "execution_count": 10,
   "metadata": {},
   "outputs": [],
   "source": [
    "import numpy as np\n",
    "from docopt import docopt\n",
    "from scipy.stats import spearmanr\n",
    "import os\n",
    "\n",
    "\n",
    "def get_ys(model_answers, true_answers):\n",
    "    \"\"\"\n",
    "    :param model_answers: path to tab-separated answer file (lemma + \"\\t\" + score)\n",
    "    :param true_answers: path to tab-separated gold answer file (lemma + \"\\t\" + score)\n",
    "    :return: a numpy array for the model scores, and one for the true scores\n",
    "    \"\"\"\n",
    "    y_hat_tmp = {}\n",
    "    errors = 0\n",
    "    with open(model_answers, 'r', encoding='utf-8') as f_in:\n",
    "        for line in f_in:\n",
    "            lemma, score = line.strip().split('\\t')\n",
    "            #print(lemma,score)\n",
    "            if score == 'nan':\n",
    "                errors += 1\n",
    "            y_hat_tmp[lemma] = score\n",
    "    if errors:\n",
    "        print('Found {} NaN predictions'.format(errors))\n",
    "    y_hat, y = [], []\n",
    "    \n",
    "\n",
    "    with open(true_answers, 'r', encoding='utf-8') as f_in:\n",
    "        for line in f_in:\n",
    "            lemma, score = line.strip().split('\\t')\n",
    "            #print(lemma,score)\n",
    "            if y_hat_tmp[lemma] != 'nan':\n",
    "                y.append(float(score))\n",
    "                y_hat.append(float(y_hat_tmp[lemma]))\n",
    "\n",
    "    return np.array(y_hat), np.array(y)\n",
    "\n",
    "\n",
    "def eval_task2(model_answers, true_answers):\n",
    "    \"\"\"\n",
    "    Computes the Spearman's correlation coefficient against the true rank as annotated by humans\n",
    "    :param model_answers: path to tab-separated answer file (lemma + \"\\t\" + score)\n",
    "    :param true_answers: path to tab-separated gold answer file (lemma + \"\\t\" + score)\n",
    "    :return: (Spearman's correlation coefficient, p-value)\n",
    "    \"\"\"\n",
    "\n",
    "    y_hat, y = get_ys(model_answers, true_answers)\n",
    "    assert len(y_hat) == len(y), str(len(y_hat)) + ' ' + str(len(y))\n",
    "\n",
    "    y_hat_ = []\n",
    "    y_ = []\n",
    "    cnt = 0\n",
    "    for a, b in zip(y_hat, y):\n",
    "        if a != 1:\n",
    "            y_hat_.append(a)\n",
    "            y_.append(b)\n",
    "        else:\n",
    "            cnt += 1\n",
    "\n",
    "    #print('{} words with JSD = 1.'.format(cnt))\n",
    "\n",
    "    r, p = spearmanr(y_hat_, y_)\n",
    "    return r, p\n",
    "\n",
    "\n",
    "    "
   ]
  },
  {
   "cell_type": "code",
   "execution_count": 23,
   "metadata": {},
   "outputs": [
    {
     "name": "stdout",
     "output_type": "stream",
     "text": [
      "0.0006785464568741521 0.1663945185026389 0.00458\n",
      "0.0006785464568741521 0.1663945185026389 0.05739\n",
      "0.0006785464568741521 0.1663945185026389 0.09839\n",
      "0.0006785464568741521 0.1663945185026389 0.00418\n",
      "0.0006785464568741521 0.1663945185026389 0.11316\n",
      "0.0006785464568741521 0.1663945185026389 0.01653\n",
      "0.0006785464568741521 0.1663945185026389 0.01374\n",
      "0.0006785464568741521 0.1663945185026389 0.32637\n",
      "0.0006785464568741521 0.1663945185026389 0.04858\n",
      "0.0006785464568741521 0.1663945185026389 0.0052\n",
      "0.0006785464568741521 0.1663945185026389 0.05668\n",
      "0.0006785464568741521 0.1663945185026389 0.00464\n",
      "0.0006785464568741521 0.1663945185026389 0.00354\n",
      "0.0006785464568741521 0.1663945185026389 0.23479\n",
      "0.0006785464568741521 0.1663945185026389 0.00843\n",
      "0.0006785464568741521 0.1663945185026389 0.0106\n"
     ]
    }
   ],
   "source": [
    "# randomly sampling instead of generating values\n",
    "import random\n",
    "import numpy as np\n",
    "import numpy as np\n",
    "from sklearn import metrics\n",
    "\n",
    "best_model_score_prt = [0.423,  0.264,0.218,0.427,0.205,0.352,0.364,0.076,0.277,0.416,0.265,0.422, 0.435,0.123,0.391,0.378]\n",
    "best_model_score_apd = [ 0.706, 0.441,0.285,0.634, 0.205,0.593,0.622,0.185,0.087,0.636,0.255,0.608,0.627,0.210,0.459,0.694]\n",
    "def baseline(scores, iterations, bert_base_file, best_score):\n",
    "    eval_scores = []\n",
    "    with open(bert_base_file,'r') as f:\n",
    "        token_list, score_list=[],[]\n",
    "        base_dict = {}\n",
    "        for line in f:\n",
    "            token, score = line.split('\\t')\n",
    "            token_list.append(token)\n",
    "            score_list.append(float(score[:-1]))\n",
    "    \n",
    "    for i in range(iterations):\n",
    "        random_scores = random.sample(scores, 37)\n",
    "        with open(\"tem_score\",\"w\") as f:\n",
    "            for tok, sc in zip(token_list,random_scores):\n",
    "                f.write(tok+'\\t'+str(sc)+'\\n')\n",
    "        r, p = eval_task2(\"tem_score\", \"../test_data_truth/task2/english_nopos.txt\")\n",
    "        \n",
    "        eval_scores.append(r)\n",
    "        \n",
    "    for bs in best_score:\n",
    "        percentage = sum([1 for sc in eval_scores if sc>bs])/len(eval_scores)\n",
    "        print(sum(eval_scores)/len(eval_scores), np.std(eval_scores), percentage)\n",
    "    \n",
    "    return #\n",
    "\n",
    "                              \n",
    "baseline(prt_scores, 100000, '../results/PRT/bert_base', best_model_score_prt)\n",
    "        "
   ]
  },
  {
   "cell_type": "code",
   "execution_count": 24,
   "metadata": {},
   "outputs": [
    {
     "name": "stdout",
     "output_type": "stream",
     "text": [
      "0.0008159843628948438 0.16665700248290669 0.0\n",
      "0.0008159843628948438 0.16665700248290669 0.0035\n",
      "0.0008159843628948438 0.16665700248290669 0.04326\n",
      "0.0008159843628948438 0.16665700248290669 2e-05\n",
      "0.0008159843628948438 0.16665700248290669 0.11234\n",
      "0.0008159843628948438 0.16665700248290669 6e-05\n",
      "0.0008159843628948438 0.16665700248290669 4e-05\n",
      "0.0008159843628948438 0.16665700248290669 0.13719\n",
      "0.0008159843628948438 0.16665700248290669 0.30671\n",
      "0.0008159843628948438 0.16665700248290669 1e-05\n",
      "0.0008159843628948438 0.16665700248290669 0.06382\n",
      "0.0008159843628948438 0.16665700248290669 5e-05\n",
      "0.0008159843628948438 0.16665700248290669 3e-05\n",
      "0.0008159843628948438 0.16665700248290669 0.10702\n",
      "0.0008159843628948438 0.16665700248290669 0.00247\n",
      "0.0008159843628948438 0.16665700248290669 0.0\n"
     ]
    }
   ],
   "source": [
    "baseline(apd_scores,100000, '../results/APD/bert_base',best_model_score_apd)"
   ]
  },
  {
   "cell_type": "markdown",
   "metadata": {},
   "source": [
    "# generate p-value for individual auc task"
   ]
  },
  {
   "cell_type": "code",
   "execution_count": 25,
   "metadata": {},
   "outputs": [
    {
     "name": "stdout",
     "output_type": "stream",
     "text": [
      "0.5005637499999942 0.09704625434514595 0.03709\n",
      "0.5005637499999942 0.09704625434514595 0.05547\n",
      "0.5005637499999942 0.09704625434514595 0.02622\n",
      "0.5005637499999942 0.09704625434514595 0.06586\n",
      "0.5005637499999942 0.09704625434514595 0.0824\n",
      "0.5005637499999942 0.09704625434514595 0.0824\n",
      "0.5005637499999942 0.09704625434514595 0.09247\n",
      "0.5005637499999942 0.09704625434514595 0.10818\n",
      "0.5005637499999942 0.09704625434514595 0.0824\n",
      "0.5005637499999942 0.09704625434514595 0.03986\n",
      "0.5005637499999942 0.09704625434514595 0.06229\n",
      "0.5005637499999942 0.09704625434514595 0.05215\n",
      "0.5005637499999942 0.09704625434514595 0.03035\n",
      "0.5005637499999942 0.09704625434514595 0.03709\n",
      "0.5005637499999942 0.09704625434514595 0.08716\n",
      "0.5005637499999942 0.09704625434514595 0.04893\n"
     ]
    }
   ],
   "source": [
    "best_model_score_prt = [0.673,  0.657,0.688,0.646,0.634,0.634,0.628,0.622,0.634,0.670,0.649,0.658,0.682,0.673,0.631,0.661]\n",
    "best_model_score_apd = [0.717,0.659,0.604,0.714,0.536,0.670,0.676,0.622,0.643,0.696,0.631,0.664,0.685,0.417,0.613,0.741]\n",
    "def baseline(scores, iterations, bert_base_file, best_score):\n",
    "    true = read(\"../test_data_truth/task1/english_nopos.txt\",\"gold\",\"gold\")\n",
    "    true_ = {item['token']: item['score'] for item in true}\n",
    "    y_true = np.array(list(true_.values()))\n",
    "    eval_scores = []\n",
    "    with open(bert_base_file,'r') as f:\n",
    "        token_list, score_list=[],[]\n",
    "        base_dict = {}\n",
    "        for line in f:\n",
    "            token, score = line.split('\\t')\n",
    "            base_dict[token]=float(score[:-1])\n",
    "        score_list = [base_dict[k] for k, v in true_.items()]\n",
    "    \n",
    "    for i in range(iterations):\n",
    "        random_scores = random.sample(scores, 37)\n",
    "        y_true = np.array(list(true_.values()))\n",
    "        y_pred = np.array(random_scores)\n",
    "                \n",
    "        fpr, tpr, thresholds = metrics.roc_curve(y_true, y_pred)\n",
    "             \n",
    "        eval_scores.append(metrics.auc(fpr, tpr))\n",
    "        \n",
    "    for bs in best_score:\n",
    "        percentage = sum([1 for sc in eval_scores if sc>bs])/len(eval_scores)\n",
    "        print(sum(eval_scores)/len(eval_scores), np.std(eval_scores), percentage)\n",
    "    \n",
    "    return \n",
    "                              \n",
    "baseline(prt_scores, 100000, '../results/PRT/bert_base', best_model_score_prt)"
   ]
  },
  {
   "cell_type": "code",
   "execution_count": 26,
   "metadata": {},
   "outputs": [
    {
     "name": "stdout",
     "output_type": "stream",
     "text": [
      "0.5000701190476151 0.09729307076140163 0.01315\n",
      "0.5000701190476151 0.09729307076140163 0.05129\n",
      "0.5000701190476151 0.09729307076140163 0.14784\n",
      "0.5000701190476151 0.09729307076140163 0.01432\n",
      "0.5000701190476151 0.09729307076140163 0.35213\n",
      "0.5000701190476151 0.09729307076140163 0.03934\n",
      "0.5000701190476151 0.09729307076140163 0.03438\n",
      "0.5000701190476151 0.09729307076140163 0.10916\n",
      "0.5000701190476151 0.09729307076140163 0.0699\n",
      "0.5000701190476151 0.09729307076140163 0.02252\n",
      "0.5000701190476151 0.09729307076140163 0.08886\n",
      "0.5000701190476151 0.09729307076140163 0.04521\n",
      "0.5000701190476151 0.09729307076140163 0.02795\n",
      "0.5000701190476151 0.09729307076140163 0.79675\n",
      "0.5000701190476151 0.09729307076140163 0.12771\n",
      "0.5000701190476151 0.09729307076140163 0.0066\n"
     ]
    }
   ],
   "source": [
    "baseline(apd_scores,100000, '../results/APD/bert_base',best_model_score_apd)"
   ]
  },
  {
   "cell_type": "markdown",
   "metadata": {},
   "source": [
    "# best combination ranking"
   ]
  },
  {
   "cell_type": "markdown",
   "metadata": {},
   "source": [
    "\n",
    "\n",
    "APD: best 10\n",
    "\n",
    "('bert_base', 'snli', 'textual_sim', 'error_detect', 'pos_local_finetune') 0.7234572406776069\n",
    "\n",
    "('bert_base', 'sst2', 'error_detect', 'pos_local_finetune') 0.7223901945999114\n",
    "\n",
    "('sst2', 'textual_sim', 'error_detect') 0.7216788305481142\n",
    "\n",
    "('bert_base', 'sst2', 'textual_sim', 'error_detect') 0.7215602698728146\n",
    "\n",
    "('bert_base', 'textual_sim', 'error_detect') 0.7213231485222157\n",
    "\n",
    "('bert_base', 'sst2', 'textual_sim', 'error_detect', 'pos_local_finetune') 0.7213231485222157\n",
    "\n",
    "('bert_base', 'snli', 'error_detect') 0.7212045878469161\n",
    "\n",
    "('bert_base', 'textual_sim', 'pos_local_finetune') 0.7212045878469161\n",
    "\n",
    "('bert_base', 'snli', 'error_detect', 'pos_local_finetune') 0.7206117844704186\n",
    "\n",
    "('bert_base', 'snli', 'textual_sim', 'error_detect') 0.7203746631198197\n",
    "\n",
    "APD: worst 10\n",
    "\n",
    "('pos_local_finetune', 'sst2_local_finetune') -0.2140020189156146\n",
    "\n",
    "('sst2_local_finetune',) -0.2104451986566293\n",
    "\n",
    "('pos_local_finetune',) 0.08737921769573849\n",
    "\n",
    "('pos_local_finetune', 'pos', 'sst2_local_finetune') 0.09271444808421642\n",
    "\n",
    "('pos', 'sst2_local_finetune') 0.12188037420789576\n",
    "\n",
    "('sst2_local_finetune', 'histbert-full') 0.13041674282946045\n",
    "\n",
    "('pos_local_finetune', 'pos', 'sst2_local_finetune', 'phrase_chunk') 0.13148378890715604\n",
    "\n",
    "('sst2_local_finetune', 'phrase_chunk') 0.1359890945685374\n",
    "\n",
    "('pos_local_finetune', 'sst2_local_finetune', 'phrase_chunk') 0.13670045862033445\n",
    "\n",
    "('pos', 'sst2_local_finetune', 'phrase_chunk') 0.14345841711240645\n",
    "\n",
    "=======================================================================\n",
    "\n",
    "PRT best 10\n",
    "\n",
    "('snli', 'pos_local_finetune', 'sst2_local_finetune') 0.5311518253418026\n",
    "\n",
    "('snli', 'sst2_pfeiffer', 'pos_local_finetune', 'ner', 'sst2_local_finetune') 0.5149090128257697\n",
    "\n",
    "('bert_base', 'snli', 'sst2_pfeiffer', 'ner', 'sst2_local_finetune') 0.5031715059711183\n",
    "\n",
    "('snli', 'sst2_pfeiffer', 'pos_local_finetune', 'sst2_local_finetune') 0.5025787025946208\n",
    "\n",
    "('snli', 'read_compre', 'sst2_pfeiffer', 'histbert-10', 'pos_local_finetune', 'sst2_local_finetune') 0.5022230205687221\n",
    "\n",
    "('snli', 'sst2_pfeiffer', 'pos_local_finetune', 'ner') 0.5019858992181231\n",
    "\n",
    "('bert_base', 'sst2_hously', 'snli', 'read_compre', 'sst2_pfeiffer', 'histbert-10', 'histbert', 'pos_local_finetune', 'sem_tag', 'ner') 0.5009188531404276\n",
    "\n",
    "('snli', 'read_compre', 'sst2_pfeiffer', 'pos_local_finetune', 'sst2_local_finetune') 0.5002074890886306\n",
    "\n",
    "('snli', 'read_compre', 'pos_local_finetune', 'sem_tag', 'ner') 0.49937756436153397\n",
    "\n",
    "('snli', 'read_compre', 'sst2_pfeiffer', 'pos_local_finetune', 'ner', 'sst2_local_finetune') 0.4989033216603359\n",
    "\n",
    "PRT worst 10\n",
    "\n",
    "('sst2_local_finetune', 'histbert-full') 0.011737506854651438\n",
    "\n",
    "('pos_local_finetune', 'sst2_local_finetune', 'histbert-full') 0.01387159901004261\n",
    "\n",
    "('pos_local_finetune', 'histbert-full') 0.037939416095843045\n",
    "\n",
    "('histbert-full',) 0.044104571211417525\n",
    "\n",
    "('ner', 'sst2_local_finetune', 'histbert-full') 0.07421898273749294\n",
    "\n",
    "('phrase_chunk',) 0.07611595354228509\n",
    "\n",
    "('pos_local_finetune', 'ner', 'sst2_local_finetune', 'histbert-full') 0.08180686595666155\n",
    "\n",
    "('sst2_local_finetune', 'phrase_chunk') 0.08773489972163702\n",
    "\n",
    "('pos_local_finetune', 'ner', 'histbert-full') 0.10160649873167962\n",
    "\n",
    "('ner', 'histbert-full') 0.10623036506836049\n",
    "\n",
    "\n"
   ]
  },
  {
   "cell_type": "markdown",
   "metadata": {},
   "source": [
    "# best combination ranking p value"
   ]
  },
  {
   "cell_type": "code",
   "execution_count": 30,
   "metadata": {},
   "outputs": [
    {
     "name": "stdout",
     "output_type": "stream",
     "text": [
      "4.852332757983329e-05 0.1666425976724507 0.00048\n",
      "4.852332757983329e-05 0.1666425976724507 0.00063\n",
      "4.852332757983329e-05 0.1666425976724507 0.00087\n",
      "4.852332757983329e-05 0.1666425976724507 0.00087\n",
      "4.852332757983329e-05 0.1666425976724507 0.00091\n"
     ]
    }
   ],
   "source": [
    "# randomly sampling instead of generating values\n",
    "import random\n",
    "import numpy as np\n",
    "import numpy as np\n",
    "from sklearn import metrics\n",
    "\n",
    "best_model_score_prt = [0.531,  0.515,0.503,0.503,0.502]\n",
    "best_model_score_apd = [ 0.723, 0.722,0.722,0.721, 0.721]\n",
    "def baseline(scores, iterations, bert_base_file, best_score):\n",
    "    eval_scores = []\n",
    "    with open(bert_base_file,'r') as f:\n",
    "        token_list, score_list=[],[]\n",
    "        base_dict = {}\n",
    "        for line in f:\n",
    "            token, score = line.split('\\t')\n",
    "            token_list.append(token)\n",
    "            score_list.append(float(score[:-1]))\n",
    "            \n",
    "    for i in range(iterations):\n",
    "        random_scores = random.sample(scores, 37)\n",
    "        averaged_scores = [(bb+r)/2 for bb, r in zip(score_list, random_scores)]\n",
    "        with open(\"tem_score\",\"w\") as f:\n",
    "            for tok, sc in zip(token_list,random_scores):\n",
    "                f.write(tok+'\\t'+str(sc)+'\\n')\n",
    "        r, p = eval_task2(\"tem_score\", \"../test_data_truth/task2/english_nopos.txt\")\n",
    "        \n",
    "        eval_scores.append(r)\n",
    "        \n",
    "    for bs in best_score:\n",
    "        percentage = sum([1 for sc in eval_scores if sc>bs])/len(eval_scores)\n",
    "        print(sum(eval_scores)/len(eval_scores), np.std(eval_scores), percentage)\n",
    "    \n",
    "    \n",
    "    return\n",
    "\n",
    "                              \n",
    "baseline(prt_scores, 100000, '../results/PRT/bert_base', best_model_score_prt)"
   ]
  },
  {
   "cell_type": "code",
   "execution_count": 31,
   "metadata": {},
   "outputs": [
    {
     "name": "stdout",
     "output_type": "stream",
     "text": [
      "0.0002395957118925276 0.1668332440587205 0.0\n",
      "0.0002395957118925276 0.1668332440587205 0.0\n",
      "0.0002395957118925276 0.1668332440587205 0.0\n",
      "0.0002395957118925276 0.1668332440587205 0.0\n",
      "0.0002395957118925276 0.1668332440587205 0.0\n"
     ]
    }
   ],
   "source": [
    "baseline(apd_scores, 100000, '../results/APD/bert_base', best_model_score_apd)"
   ]
  },
  {
   "cell_type": "markdown",
   "metadata": {},
   "source": [
    "# best combination auc"
   ]
  },
  {
   "cell_type": "code",
   "execution_count": 32,
   "metadata": {},
   "outputs": [
    {
     "data": {
      "text/plain": [
       "{('ner', 'sst2_hously', 'sst2_local_finetune'): 0.7321428571428572,\n",
       " ('ner', 'sst2_local_finetune', 'read_compre'): 0.7202380952380952,\n",
       " ('ner',\n",
       "  'sst2_hously',\n",
       "  'sst2_local_finetune',\n",
       "  'read_compre'): 0.7142857142857143,\n",
       " ('ner', 'sst2_hously'): 0.7113095238095237,\n",
       " ('ner', 'bert_base', 'sst2_local_finetune'): 0.7113095238095237,\n",
       " ('sst2_hously', 'sst2_local_finetune', 'read_compre'): 0.7083333333333333,\n",
       " ('sst2_hously', 'sst2_local_finetune'): 0.7053571428571429,\n",
       " ('ner',\n",
       "  'sst2_hously',\n",
       "  'bert_base',\n",
       "  'sst2_local_finetune'): 0.7053571428571428,\n",
       " ('ner', 'bert_base'): 0.7023809523809524,\n",
       " ('sst2_local_finetune', 'read_compre'): 0.7023809523809524,\n",
       " ('ner', 'sst2_local_finetune'): 0.699404761904762,\n",
       " ('ner', 'read_compre'): 0.6964285714285714,\n",
       " ('ner', 'sst2_hously', 'bert_base'): 0.6964285714285714,\n",
       " ('sst2_hously', 'bert_base', 'sst2_local_finetune'): 0.6964285714285714,\n",
       " ('ner',\n",
       "  'sst2_hously',\n",
       "  'bert_base',\n",
       "  'sst2_local_finetune',\n",
       "  'read_compre'): 0.6934523809523809,\n",
       " ('bert_base', 'sst2_local_finetune'): 0.6875,\n",
       " ('ner', 'sst2_hously', 'read_compre'): 0.6875,\n",
       " ('sst2_hously', 'bert_base', 'sst2_local_finetune', 'read_compre'): 0.6875,\n",
       " ('ner',\n",
       "  'bert_base',\n",
       "  'sst2_local_finetune',\n",
       "  'read_compre'): 0.6845238095238095,\n",
       " ('sst2_hously', 'read_compre'): 0.6815476190476191,\n",
       " ('ner', 'sst2_hously', 'bert_base', 'read_compre'): 0.6815476190476191,\n",
       " ('sst2_hously', 'bert_base'): 0.6755952380952381,\n",
       " ('sst2_hously', 'bert_base', 'read_compre'): 0.6755952380952381,\n",
       " ('ner', 'bert_base', 'read_compre'): 0.6726190476190477,\n",
       " ('bert_base', 'sst2_local_finetune', 'read_compre'): 0.6696428571428572,\n",
       " ('bert_base', 'read_compre'): 0.6636904761904762}"
      ]
     },
     "execution_count": 32,
     "metadata": {},
     "output_type": "execute_result"
    }
   ],
   "source": [
    "# auc combo\n",
    "from itertools import combinations\n",
    "\n",
    "def ave(results, combo):\n",
    "    df_new = results[results.task.isin(combo)]\n",
    "    res = df_new.groupby([\"token\"]).mean().to_dict()\n",
    "    return res['score']\n",
    "\n",
    "\n",
    "def read(path,filename,metric):\n",
    "    with open(path,'r') as f:\n",
    "        dict_ = {}\n",
    "        for line in f:\n",
    "            token, score = line.split('\\t')\n",
    "            dict_[token]=float(score[:-1])\n",
    "        result = [{'task':filename, 'metric':metric, 'token':k, 'score':v, 'rank':i} for i, (k,v) in enumerate(dict_.items())]\n",
    "        \n",
    "    return dict_,result\n",
    "\n",
    "prt = [\"ner\", \"sst2_hously\", \"bert_base\",\"sst2_local_finetune\",\"read_compre\"]\n",
    "apd = [\"read_compre\", \"textual_sim\",\"snli\",\"bert_base\",\"sst2_hously\"]\n",
    "\n",
    "def task1_combo(task_list,metric):\n",
    "    results={}\n",
    "    all_res=[]\n",
    "    true,_ = read(\"../test_data_truth/task1/english_nopos.txt\",\"gold\",\"gold\" )\n",
    "    y_true = np.array(list(true.values()))\n",
    "    for item in task_list:\n",
    "       \n",
    "        all_res+=read(f\"../results/{metric}/{item}\", item, {metric})[1]\n",
    "\n",
    "    df = pd.DataFrame(all_res)\n",
    "    df['score'] = df['score'].astype(float)\n",
    "\n",
    "\n",
    "    for i in range(4):\n",
    "        select = list(combinations(task_list,i+2))\n",
    "        for item in select:\n",
    "            target_dict = ave(df,item)\n",
    "            y_pred = np.array([target_dict[k] for k, v in true.items()])\n",
    "            fpr, tpr, thresholds = metrics.roc_curve(y_true, y_pred)\n",
    "            results[item] = metrics.auc(fpr, tpr)\n",
    "    results_ = {k: v for k, v in sorted(results.items(), key=lambda item: item[1], reverse=True)}\n",
    "    return results_\n",
    "                \n",
    "\n",
    "task1_combo(prt, \"PRT\")\n",
    "        \n",
    "        "
   ]
  },
  {
   "cell_type": "code",
   "execution_count": 33,
   "metadata": {},
   "outputs": [
    {
     "data": {
      "text/plain": [
       "{('textual_sim', 'snli'): 0.7410714285714286,\n",
       " ('textual_sim', 'snli', 'bert_base'): 0.7380952380952381,\n",
       " ('textual_sim', 'bert_base'): 0.7351190476190476,\n",
       " ('read_compre', 'textual_sim', 'bert_base'): 0.7321428571428571,\n",
       " ('textual_sim', 'sst2_hously'): 0.7291666666666667,\n",
       " ('read_compre', 'textual_sim'): 0.7261904761904763,\n",
       " ('read_compre', 'bert_base'): 0.7261904761904762,\n",
       " ('snli', 'bert_base'): 0.7232142857142857,\n",
       " ('textual_sim', 'bert_base', 'sst2_hously'): 0.7232142857142857,\n",
       " ('read_compre', 'textual_sim', 'snli', 'bert_base'): 0.7232142857142857,\n",
       " ('read_compre', 'textual_sim', 'snli'): 0.7202380952380953,\n",
       " ('read_compre', 'snli'): 0.7202380952380952,\n",
       " ('read_compre',\n",
       "  'textual_sim',\n",
       "  'bert_base',\n",
       "  'sst2_hously'): 0.7202380952380952,\n",
       " ('read_compre', 'textual_sim', 'snli', 'sst2_hously'): 0.7172619047619048,\n",
       " ('textual_sim', 'snli', 'bert_base', 'sst2_hously'): 0.7172619047619048,\n",
       " ('read_compre',\n",
       "  'textual_sim',\n",
       "  'snli',\n",
       "  'bert_base',\n",
       "  'sst2_hously'): 0.7142857142857143,\n",
       " ('read_compre', 'snli', 'bert_base'): 0.7113095238095238,\n",
       " ('read_compre', 'bert_base', 'sst2_hously'): 0.7113095238095237,\n",
       " ('read_compre', 'textual_sim', 'sst2_hously'): 0.7083333333333334,\n",
       " ('textual_sim', 'snli', 'sst2_hously'): 0.7083333333333334,\n",
       " ('snli', 'bert_base', 'sst2_hously'): 0.7083333333333334,\n",
       " ('bert_base', 'sst2_hously'): 0.7053571428571429,\n",
       " ('read_compre', 'snli', 'bert_base', 'sst2_hously'): 0.7053571428571428,\n",
       " ('read_compre', 'sst2_hously'): 0.699404761904762,\n",
       " ('read_compre', 'snli', 'sst2_hously'): 0.6994047619047619,\n",
       " ('snli', 'sst2_hously'): 0.6964285714285714}"
      ]
     },
     "execution_count": 33,
     "metadata": {},
     "output_type": "execute_result"
    }
   ],
   "source": [
    "task1_combo(apd, \"APD\")"
   ]
  },
  {
   "cell_type": "markdown",
   "metadata": {},
   "source": [
    "# best combination auc p value"
   ]
  },
  {
   "cell_type": "code",
   "execution_count": 38,
   "metadata": {},
   "outputs": [
    {
     "name": "stdout",
     "output_type": "stream",
     "text": [
      "0.4184465178571435 0.0732870337689894 2e-05\n",
      "0.4184465178571435 0.0732870337689894 3e-05\n",
      "0.4184465178571435 0.0732870337689894 4e-05\n",
      "0.4184465178571435 0.0732870337689894 0.00015\n"
     ]
    }
   ],
   "source": [
    "# randomly sampling instead of generating values\n",
    "import random\n",
    "import numpy as np\n",
    "import numpy as np\n",
    "from sklearn import metrics\n",
    "\n",
    "best_model_score_prt = [0.732,  0.720,0.714,0.688]\n",
    "best_model_score_apd = [ 0.741, 0.738,0.735,0.741]\n",
    "def baseline(scores, iterations, bert_base_file, best_score):\n",
    "    true, _ = read(\"../test_data_truth/task1/english_nopos.txt\",\"gold\",\"gold\")\n",
    "    y_true = np.array(list(true.values()))\n",
    "    eval_scores = []\n",
    "    with open(bert_base_file,'r') as f:\n",
    "        token_list, score_list=[],[]\n",
    "        base_dict = {}\n",
    "        for line in f:\n",
    "            token, score = line.split('\\t')\n",
    "            token_list.append(token)\n",
    "            score_list.append(float(score[:-1]))\n",
    "    \n",
    "    for i in range(iterations):\n",
    "        random_scores = random.sample(scores, 37)\n",
    "\n",
    "        averaged_scores = [(bb+r)/2 for bb, r in zip(score_list, random_scores)]\n",
    "        \n",
    "        y_true = np.array(list(true.values()))\n",
    "        y_pred = np.array(averaged_scores)\n",
    "                \n",
    "        fpr, tpr, thresholds = metrics.roc_curve(y_true, y_pred)\n",
    "             \n",
    "        eval_scores.append(metrics.auc(fpr, tpr))\n",
    "        \n",
    "        \n",
    "    for bs in best_score:\n",
    "        percentage = sum([1 for sc in eval_scores if sc>bs])/len(eval_scores)\n",
    "        print(sum(eval_scores)/len(eval_scores), np.std(eval_scores), percentage)\n",
    "    \n",
    "    return #sum(eval_scores)/len(eval_scores), np.std(eval_scores), percentage\n",
    "\n",
    "                              \n",
    "baseline(prt_scores, 100000, '../results/PRT/bert_base', best_model_score_prt)"
   ]
  },
  {
   "cell_type": "code",
   "execution_count": null,
   "metadata": {},
   "outputs": [],
   "source": []
  }
 ],
 "metadata": {
  "kernelspec": {
   "display_name": "Python 3",
   "language": "python",
   "name": "python3"
  },
  "language_info": {
   "codemirror_mode": {
    "name": "ipython",
    "version": 3
   },
   "file_extension": ".py",
   "mimetype": "text/x-python",
   "name": "python",
   "nbconvert_exporter": "python",
   "pygments_lexer": "ipython3",
   "version": "3.6.4"
  }
 },
 "nbformat": 4,
 "nbformat_minor": 2
}
